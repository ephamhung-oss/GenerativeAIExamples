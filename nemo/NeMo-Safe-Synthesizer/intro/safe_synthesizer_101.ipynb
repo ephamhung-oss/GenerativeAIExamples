{
 "cells": [
  {
   "cell_type": "markdown",
   "id": "630e3e17",
   "metadata": {},
   "source": [
    "# 🎛️ NeMo Safe Synthesizer 101: The Basics\n",
    "\n",
    "> ⚠️ **Warning**: NeMo Safe Synthesizer is in Early Access and not recommended for production use.\n",
    "\n",
    "<br> \n",
    "\n",
    "In this notebook, we demonstrate how to create a synthetic version of a tabular dataset using the NeMo Microservices Python SDK.\n",
    "\n",
    "After completing this notebook, you'll be able to:\n",
    "- Use the NeMo Microservices SDK to interact with Safe Synthesizer\n",
    "- Create novel synthetic data that follows the statistical properties of your input dataset\n",
    "- Access an evaluation report on synthetic data quality and privacy\n"
   ]
  },
  {
   "cell_type": "markdown",
   "id": "8be84f5d",
   "metadata": {},
   "source": [
    "#### 💾 Install dependencies\n",
    "\n",
    "**IMPORTANT** 👉 Ensure you have a NeMo Microservices Platform deployment available. Follow the quickstart or Helm chart instructions in your environment's setup guide. You may need to restart your kernel after installing dependencies.\n"
   ]
  },
  {
   "cell_type": "code",
   "execution_count": null,
   "id": "9f5d6f5a",
   "metadata": {},
   "outputs": [],
   "source": [
    "import pandas as pd\n",
    "from nemo_microservices import NeMoMicroservices\n",
    "from nemo_microservices.beta.safe_synthesizer.builder import SafeSynthesizerBuilder\n",
    "\n",
    "import logging\n",
    "logging.basicConfig(level=logging.WARNING)\n",
    "logging.getLogger(\"httpx\").setLevel(logging.WARNING)"
   ]
  },
  {
   "cell_type": "markdown",
   "id": "53bb2807",
   "metadata": {},
   "source": [
    "### ⚙️ Initialize the NeMo Safe Synthesizer Client\n",
    "\n",
    "- The Python SDK provides a wrapper around the NeMo Microservices Platform APIs.\n",
    "- `http://localhost:8080` is the default url for the client's `base_url` in the quickstart.\n",
    "- If using a managed or remote deployment, ensure correct base URLs and tokens.\n"
   ]
  },
  {
   "cell_type": "code",
   "execution_count": null,
   "id": "8c15ab93",
   "metadata": {},
   "outputs": [],
   "source": [
    "client = NeMoMicroservices(\n",
    "    base_url=\"http://localhost:8080\",\n",
    ")"
   ]
  },
  {
   "cell_type": "markdown",
   "id": "74d72ef7",
   "metadata": {},
   "source": [
    "NeMo DataStore is launched as one of the services, and we'll use it to manage our storage. so we'll set the following:"
   ]
  },
  {
   "cell_type": "code",
   "execution_count": null,
   "id": "ab037a3a",
   "metadata": {},
   "outputs": [],
   "source": [
    "datastore_config = {\n",
    "    \"endpoint\": \"http://localhost:3000/v1/hf\",\n",
    "    \"token\": \"\",\n",
    "}"
   ]
  },
  {
   "cell_type": "markdown",
   "id": "2d66c819",
   "metadata": {},
   "source": [
    "## 📥 Load input data\n",
    "\n",
    "Safe Synthesizer learns the patterns and correlations in your input dataset to produce synthetic data with similar properties. For this tutorial, we will use a small public sample dataset. Replace it with your own data if desired.\n",
    "\n",
    "The sample dataset used here is a set of women's clothing reviews, including age, product category, rating, and review text. Some of the reviews contain Personally Identifiable Information (PII), such as height, weight, age, and location."
   ]
  },
  {
   "cell_type": "code",
   "execution_count": null,
   "id": "daa955b6",
   "metadata": {},
   "outputs": [],
   "source": [
    "%pip install kagglehub || uv pip install kagglehub"
   ]
  },
  {
   "cell_type": "code",
   "execution_count": null,
   "id": "7204f213",
   "metadata": {},
   "outputs": [],
   "source": [
    "import kagglehub\n",
    "import pandas as pd\n",
    "\n",
    "# Download latest version\n",
    "path = kagglehub.dataset_download(\"nicapotato/womens-ecommerce-clothing-reviews\")\n",
    "df = pd.read_csv(f\"{path}/Womens Clothing E-Commerce Reviews.csv\", index_col=0)\n",
    "df.head()"
   ]
  },
  {
   "cell_type": "markdown",
   "id": "87d72c68",
   "metadata": {},
   "source": [
    "## 🏗️ Create a Safe Synthesizer job\n",
    "\n",
    "The `SafeSynthesizerBuilder` provides a fluent interface to configure and submit jobs.\n",
    "\n",
    "The following code creates and submits a job:\n",
    "- `SafeSynthesizerBuilder(client)`: initialize with the NeMo Microservices client.\n",
    "- `.from_data_source(df)`: set the input data source.\n",
    "- `.with_datastore(datastore_config)`: configure model artifact storage.\n",
    "- `.with_replace_pii()`: enable automatic replacement of PII.\n",
    "- `.synthesize()`: train and generate synthetic data.\n",
    "- `.create_job()`: submit the job to the platform.\n"
   ]
  },
  {
   "cell_type": "code",
   "execution_count": null,
   "id": "85d9de56",
   "metadata": {},
   "outputs": [],
   "source": [
    "job = (\n",
    "    SafeSynthesizerBuilder(client)\n",
    "    .from_data_source(df)\n",
    "    .with_datastore(datastore_config)\n",
    "    .with_replace_pii()\n",
    "    .synthesize()\n",
    "    .create_job()\n",
    ")\n",
    "\n",
    "print(f\"job_id = {job.job_id}\")\n",
    "job.wait_for_completion()\n",
    "\n",
    "print(f\"Job finished with status {job.fetch_status()}\")"
   ]
  },
  {
   "cell_type": "code",
   "execution_count": null,
   "id": "fa2eacb2",
   "metadata": {},
   "outputs": [],
   "source": [
    "# If your notebook shuts down, it's okay, your job is still running on the microservices platform.\n",
    "# You can get the same job object and interact with it again by uncommenting the following code\n",
    "# snippet, and modifying it with the job id from the previous cell output.\n",
    "\n",
    "# from nemo_microservices.beta.safe_synthesizer.sdk.job import SafeSynthesizerJob\n",
    "# job = SafeSynthesizerJob(job_id=\"<job id>\", client=client)"
   ]
  },
  {
   "cell_type": "markdown",
   "id": "285d4a9d",
   "metadata": {},
   "source": [
    "## 👀 View synthetic data\n",
    "\n",
    "After the job completes, fetch the generated synthetic dataset."
   ]
  },
  {
   "cell_type": "code",
   "execution_count": null,
   "id": "7f25574a",
   "metadata": {},
   "outputs": [],
   "source": [
    "# Fetch the synthetic data created by the job\n",
    "synthetic_df = job.fetch_data()\n",
    "synthetic_df\n"
   ]
  },
  {
   "cell_type": "markdown",
   "id": "2b25f152",
   "metadata": {},
   "source": [
    "## 📊 View evaluation report\n",
    "\n",
    "An evaluation comparing the synthetic data to the input data is performed automatically. You can:\n",
    "\n",
    "- **Inspect key scores**: overall synthetic data quality and privacy.\n",
    "- **Download the full HTML report**: includes charts and detailed metrics.\n",
    "- **Display the report inline**: useful when viewing in notebook environments.\n"
   ]
  },
  {
   "cell_type": "code",
   "execution_count": null,
   "id": "7b691127",
   "metadata": {},
   "outputs": [],
   "source": [
    "# Print selected information from the job summary\n",
    "summary = job.fetch_summary()\n",
    "print(\n",
    "    f\"Synthetic data quality score (0-10, higher is better): {summary.synthetic_data_quality_score}\"\n",
    ")\n",
    "print(f\"Data privacy score (0-10, higher is better): {summary.data_privacy_score}\")\n"
   ]
  },
  {
   "cell_type": "code",
   "execution_count": null,
   "id": "39e62ea9",
   "metadata": {},
   "outputs": [],
   "source": [
    "# Download the full evaluation report to your local machine\n",
    "job.save_report(\"evaluation_report.html\")"
   ]
  },
  {
   "cell_type": "code",
   "execution_count": null,
   "id": "45f7e22b",
   "metadata": {},
   "outputs": [],
   "source": [
    "# Fetch and display the full evaluation report inline\n",
    "job.display_report_in_notebook()"
   ]
  }
 ],
 "metadata": {
  "kernelspec": {
   "display_name": "kendrickb-notebooks",
   "language": "python",
   "name": "python3"
  },
  "language_info": {
   "codemirror_mode": {
    "name": "ipython",
    "version": 3
   },
   "file_extension": ".py",
   "mimetype": "text/x-python",
   "name": "python",
   "nbconvert_exporter": "python",
   "pygments_lexer": "ipython3",
   "version": "3.11.13"
  }
 },
 "nbformat": 4,
 "nbformat_minor": 5
}
